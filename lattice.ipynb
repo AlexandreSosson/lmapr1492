{
 "cells": [
  {
   "cell_type": "code",
   "execution_count": 1,
   "id": "04873f3c",
   "metadata": {},
   "outputs": [],
   "source": [
    "from mp_api.client import MPRester\n",
    "from pymatgen.symmetry.analyzer import SpacegroupAnalyzer"
   ]
  },
  {
   "cell_type": "code",
   "execution_count": 2,
   "id": "9b3bbc0c",
   "metadata": {},
   "outputs": [],
   "source": [
    "mp_key = \"bZpoHPJcxLjUBeUjBLrNEUZxmaqm9yiW\"\n",
    "mp_id = \"mp-2352\""
   ]
  },
  {
   "cell_type": "code",
   "execution_count": 3,
   "id": "4bb5b8d8",
   "metadata": {},
   "outputs": [
    {
     "data": {
      "application/vnd.jupyter.widget-view+json": {
       "model_id": "9a49b52238b04b2496ed92a957c89d03",
       "version_major": 2,
       "version_minor": 0
      },
      "text/plain": [
       "Retrieving MaterialsDoc documents:   0%|          | 0/1 [00:00<?, ?it/s]"
      ]
     },
     "metadata": {},
     "output_type": "display_data"
    }
   ],
   "source": [
    "with MPRester(mp_key) as m:\n",
    "    structure = m.get_structure_by_material_id(mp_id)\n",
    "analyzer = SpacegroupAnalyzer(structure)"
   ]
  },
  {
   "cell_type": "markdown",
   "id": "50693f13",
   "metadata": {},
   "source": [
    "<span style=\"font-size:2em;\">**Extraction des données**</span>\n"
   ]
  },
  {
   "cell_type": "code",
   "execution_count": 4,
   "id": "5f085583",
   "metadata": {},
   "outputs": [
    {
     "name": "stdout",
     "output_type": "stream",
     "text": [
      "- Vecteurs de base du réseau direct:\n",
      "a =  [3.35885194 0.         1.93923424]\n",
      "b =  [1.11961665 3.16675563 1.93923424]\n",
      "c =  [-0.         -0.          3.87846748] \n",
      "\n",
      "Norme des vecteurs du réseau direct en Ångström:\n",
      "a =  3.878468227590648\n",
      "b =  3.8784677516620265\n",
      "c =  3.87846748 \n",
      "\n",
      "#################################################################\n",
      "\n",
      "- Vecteurs de base du réseau réciproque:\n",
      "a* =  [ 1.87063479 -0.66136895  0.        ]\n",
      "b* =  [0.         1.98410804 0.        ]\n",
      "c* =  [-0.93531764 -0.66136971  1.62001753] \n",
      "\n",
      "Norme des vecteurs du réseau réciproque en Ångström:\n",
      "a* =  1.984107715682114\n",
      "b* =  1.9841080403098823\n",
      "c* =  1.9841083083932316 \n",
      "\n",
      "#################################################################\n",
      "\n",
      "- Type de maille : \n",
      " cubic F \n",
      "\n",
      "C'est donc cubique FACE CENTRÉ (F)\n",
      "\n",
      "- Système cristallin : \n",
      " cubic \n",
      "\n",
      "- Groupe ponctuel : \n",
      " m-3m\n"
     ]
    }
   ],
   "source": [
    "lattice = structure.lattice\n",
    "print(\"- Vecteurs de base du réseau direct:\")\n",
    "print(\"a = \", lattice.matrix[0])\n",
    "print(\"b = \", lattice.matrix[1])\n",
    "print(\"c = \", lattice.matrix[2],\"\\n\")\n",
    "\n",
    "print(\"Norme des vecteurs du réseau direct en Ångström:\")\n",
    "print(\"a = \",lattice.a)\n",
    "print(\"b = \",lattice.b)\n",
    "print(\"c = \",lattice.c,\"\\n\")\n",
    "\n",
    "print(\"#################################################################\\n\")\n",
    "\n",
    "rec_lattice = lattice.reciprocal_lattice\n",
    "print(\"- Vecteurs de base du réseau réciproque:\")\n",
    "print(\"a* = \", rec_lattice.matrix[0])\n",
    "print(\"b* = \", rec_lattice.matrix[1])\n",
    "print(\"c* = \", rec_lattice.matrix[2],\"\\n\")\n",
    "\n",
    "print(\"Norme des vecteurs du réseau réciproque en Ångström:\")\n",
    "print(\"a* = \",rec_lattice.a)\n",
    "print(\"b* = \",rec_lattice.b)\n",
    "print(\"c* = \",rec_lattice.c,\"\\n\")\n",
    "\n",
    "\n",
    "print(\"#################################################################\\n\")      \n",
    "\n",
    "\n",
    "lattice_type = analyzer.get_lattice_type()\n",
    "lattice_exact_type= analyzer.get_space_group_symbol()[0]\n",
    "print(\"- Type de maille : \\n\", lattice_type, lattice_exact_type, \"\\n\")\n",
    "\n",
    "print(\"C'est donc cubique FACE CENTRÉ (F)\\n\")\n",
    "\n",
    "\n",
    "sys_crystallin = analyzer.get_crystal_system()\n",
    "print(\"- Système cristallin : \\n\", sys_crystallin, \"\\n\")\n",
    "\n",
    "      \n",
    "groupe_ponc = analyzer.get_point_group_symbol()\n",
    "print(\"- Groupe ponctuel : \\n\", groupe_ponc)"
   ]
  }
 ],
 "metadata": {
  "kernelspec": {
   "display_name": "Python 3 (ipykernel)",
   "language": "python",
   "name": "python3"
  },
  "language_info": {
   "codemirror_mode": {
    "name": "ipython",
    "version": 3
   },
   "file_extension": ".py",
   "mimetype": "text/x-python",
   "name": "python",
   "nbconvert_exporter": "python",
   "pygments_lexer": "ipython3",
   "version": "3.9.13"
  }
 },
 "nbformat": 4,
 "nbformat_minor": 5
}
