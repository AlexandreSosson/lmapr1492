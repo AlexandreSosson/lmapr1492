{
 "cells": [
  {
   "cell_type": "code",
   "execution_count": 1,
   "id": "e651517e",
   "metadata": {},
   "outputs": [],
   "source": [
    "from mp_api.client import MPRester\n",
    "from pymatgen.symmetry.analyzer import SpacegroupAnalyzer\n",
    "from jupyter_jsmol import JsmolView\n",
    "from ipywidgets import Layout, widgets, interact\n",
    "from IPython.display import display\n",
    "from jupyter_jsmol.pymatgen import quick_view\n",
    "from pymatgen.core.operations import SymmOp"
   ]
  },
  {
   "cell_type": "code",
   "execution_count": 2,
   "id": "d4c8ac49",
   "metadata": {},
   "outputs": [],
   "source": [
    "mp_key = \"bZpoHPJcxLjUBeUjBLrNEUZxmaqm9yiW\"\n",
    "mp_id = \"mp-2352\""
   ]
  },
  {
   "cell_type": "code",
   "execution_count": 3,
   "id": "40e9da6f",
   "metadata": {},
   "outputs": [
    {
     "data": {
      "application/vnd.jupyter.widget-view+json": {
       "model_id": "fd127bfcb5d44fddb918db0518ab5226",
       "version_major": 2,
       "version_minor": 0
      },
      "text/plain": [
       "Retrieving MaterialsDoc documents:   0%|          | 0/1 [00:00<?, ?it/s]"
      ]
     },
     "metadata": {},
     "output_type": "display_data"
    }
   ],
   "source": [
    "with MPRester(mp_key) as m:\n",
    "    structure = m.get_structure_by_material_id(mp_id)\n",
    "analyzer = SpacegroupAnalyzer(structure)\n",
    "\n",
    "Sym = analyzer.get_symmetry_operations()  # on choisira les bonnes opérations à prendre en regardant \n",
    "                                          # la sortie de \"print(Sym)\", qu'on n'affiche pas dans ce notebook.\n",
    "Sites = structure.sites\n"
   ]
  },
  {
   "cell_type": "markdown",
   "id": "f604aa19",
   "metadata": {},
   "source": [
    "**Note: on travaille ici dans la maille conventionelle**"
   ]
  },
  {
   "cell_type": "markdown",
   "id": "a7a19210",
   "metadata": {},
   "source": [
    "# Première élément de symétrie: inversion sur Na"
   ]
  },
  {
   "cell_type": "markdown",
   "id": "b289f335",
   "metadata": {},
   "source": [
    "La première symétrie qu'on va étudier est celle d'inversion. Elle est défini mathématiquement comme ceci : \n",
    "$\\left [\\begin{matrix}-1 & 0 & 0\\\\0 & -1 & 0\\\\0 & 0 & -1\\end{matrix}\\right]$ \n",
    "$ \\left [\\begin{matrix}x\\\\y \\\\z\\end{matrix}\\right]$ \n",
    "= $ \\left [\\begin{matrix}-x\\\\-y \\\\-z\\end{matrix}\\right]$.\n",
    "\n",
    "Cette opération est de deuxième espèce, qui inverse donc la chiralité. On peut le vérifier en voyant que le déterminant de sa matrice associée vaut -1.\n",
    "\n",
    "Il n'y a pas de translation."
   ]
  },
  {
   "cell_type": "code",
   "execution_count": 4,
   "id": "b88c0585",
   "metadata": {
    "scrolled": true
   },
   "outputs": [
    {
     "name": "stdout",
     "output_type": "stream",
     "text": [
      "Rot:\n",
      "[[-1.  0.  0.]\n",
      " [ 0. -1.  0.]\n",
      " [ 0.  0. -1.]]\n",
      "tau\n",
      "[0. 0. 0.] \n",
      "\n",
      "Position initial de l'atome:  [0.75 0.75 0.75]\n",
      "Position de l'atome après l'application de l'élément de symétrie:  [-0.75 -0.75 -0.75]\n"
     ]
    }
   ],
   "source": [
    "Sym1 = Sym[2]\n",
    "print(Sym1, \"\\n\")\n",
    "pos_depart = Sites[0].frac_coords\n",
    "pos_final = Sym1.operate(pos_depart)\n",
    "print(\"Position initial de l'atome: \", pos_depart)\n",
    "print(\"Position de l'atome après l'application de l'élément de symétrie: \", pos_final)"
   ]
  },
  {
   "cell_type": "markdown",
   "id": "e357ec6f",
   "metadata": {},
   "source": [
    "**Visualisation**"
   ]
  },
  {
   "cell_type": "code",
   "execution_count": 5,
   "id": "73ebf0d3",
   "metadata": {},
   "outputs": [
    {
     "data": {
      "application/vnd.jupyter.widget-view+json": {
       "model_id": "3ee52b77ba9e45f8b765f71be6420d95",
       "version_major": 2,
       "version_minor": 0
      },
      "text/plain": [
       "JsmolView(layout=Layout(align_self='stretch', height='400px'))"
      ]
     },
     "metadata": {},
     "output_type": "display_data"
    }
   ],
   "source": [
    "view = quick_view(structure,conventional = True)\n",
    "display(view)\n",
    "view.script('draw SYMOP 3 {atomno=1}')"
   ]
  },
  {
   "cell_type": "markdown",
   "id": "a2135001",
   "metadata": {},
   "source": [
    "# Deuxième élément de symétrie: rotation d'ordre 3 sur O"
   ]
  },
  {
   "cell_type": "markdown",
   "id": "136c2468",
   "metadata": {},
   "source": [
    "La deuxième symétrie est une rotation d'ordre 3 autour de la diagonale parralèle à la direction [1,1,1]. Elle est défini mathématiquement comme ceci : \n",
    "$\\left [\\begin{matrix}0 & 0 & 1\\\\1 & 0 & 0\\\\0 & 1 & 0\\end{matrix}\\right]$ \n",
    "$ \\left [\\begin{matrix}x\\\\y \\\\z\\end{matrix}\\right]$ \n",
    "= $ \\left [\\begin{matrix}z\\\\x \\\\y\\end{matrix}\\right]$.\n",
    "\n",
    "Cette opération est de première espèce (déterminant = 1), qui conserve donc la chiralité.\n",
    "\n",
    "Il n'y a pas de translation."
   ]
  },
  {
   "cell_type": "code",
   "execution_count": 6,
   "id": "e96f64ac",
   "metadata": {},
   "outputs": [
    {
     "name": "stdout",
     "output_type": "stream",
     "text": [
      "Rot:\n",
      "[[0. 0. 1.]\n",
      " [1. 0. 0.]\n",
      " [0. 1. 0.]]\n",
      "tau\n",
      "[0. 0. 0.] \n",
      "\n",
      "Position initial de l'atome:  [0.25 0.25 0.25]\n",
      "Position de l'atome après l'application de l'élément de symétrie:  [0.25 0.25 0.25]\n"
     ]
    }
   ],
   "source": [
    "Sym2 = Sym[80]\n",
    "print(Sym2,\"\\n\")\n",
    "pos_depart = Sites[1].frac_coords\n",
    "pos_final = Sym2.operate(pos_depart)\n",
    "print(\"Position initial de l'atome: \", pos_depart)\n",
    "print(\"Position de l'atome après l'application de l'élément de symétrie: \", pos_final)"
   ]
  },
  {
   "cell_type": "markdown",
   "id": "ec39956b",
   "metadata": {},
   "source": [
    "**Visualisation:**"
   ]
  },
  {
   "cell_type": "code",
   "execution_count": 7,
   "id": "594184a9",
   "metadata": {},
   "outputs": [
    {
     "data": {
      "application/vnd.jupyter.widget-view+json": {
       "model_id": "49562f83312c49babc823472081004f3",
       "version_major": 2,
       "version_minor": 0
      },
      "text/plain": [
       "JsmolView(layout=Layout(align_self='stretch', height='400px'))"
      ]
     },
     "metadata": {},
     "output_type": "display_data"
    }
   ],
   "source": [
    "view2 = quick_view(structure,conventional = True)\n",
    "display(view2)\n",
    "view2.script('draw SYMOP 81 {atomno=2}')"
   ]
  },
  {
   "cell_type": "markdown",
   "id": "df78b948",
   "metadata": {},
   "source": [
    "# Troisième élément de symétrie: rotation d'ordre 2 sur Na"
   ]
  },
  {
   "cell_type": "markdown",
   "id": "3178a931",
   "metadata": {},
   "source": [
    "La dernière symétrie est une rotation d'ordre 2 dans la direction [1,1̅\n",
    ",0]. Elle est défini mathématiquement comme ceci : \n",
    "$\\left [\\begin{matrix}0 & -1 & 0\\\\-1 & 0 & 0\\\\0 & 0 & -1\\end{matrix}\\right]$ \n",
    "$ \\left [\\begin{matrix}x\\\\y \\\\z\\end{matrix}\\right]$ \n",
    "= $ \\left [\\begin{matrix}-y\\\\-x \\\\-z\\end{matrix}\\right]$.\n",
    "\n",
    "Cette opération est de première espèce (déterminant = 1), qui conserve donc la chiralité.\n",
    "\n",
    "Il n'y a pas de translation."
   ]
  },
  {
   "cell_type": "code",
   "execution_count": 8,
   "id": "7b44f220",
   "metadata": {},
   "outputs": [
    {
     "name": "stdout",
     "output_type": "stream",
     "text": [
      "Rot:\n",
      "[[ 0. -1.  0.]\n",
      " [-1.  0.  0.]\n",
      " [ 0.  0. -1.]]\n",
      "tau\n",
      "[0. 0. 0.] \n",
      "\n",
      "Position initial de l'atome:  [0.75 0.75 0.75]\n",
      "Position de l'atome après l'application de l'élément de symétrie:  [-0.75 -0.75 -0.75]\n"
     ]
    }
   ],
   "source": [
    "Sym3 = Sym[76]\n",
    "print(Sym3,\"\\n\")\n",
    "pos_depart = Sites[0].frac_coords\n",
    "pos_final = Sym3.operate(pos_depart)\n",
    "print(\"Position initial de l'atome: \", pos_depart)\n",
    "print(\"Position de l'atome après l'application de l'élément de symétrie: \", pos_final)"
   ]
  },
  {
   "cell_type": "markdown",
   "id": "9ab44981",
   "metadata": {},
   "source": [
    "**Visualisation:**"
   ]
  },
  {
   "cell_type": "code",
   "execution_count": 11,
   "id": "3a372d56",
   "metadata": {
    "scrolled": true
   },
   "outputs": [
    {
     "data": {
      "application/vnd.jupyter.widget-view+json": {
       "model_id": "7312baff779546e7b2f0d48005ee0830",
       "version_major": 2,
       "version_minor": 0
      },
      "text/plain": [
       "JsmolView(layout=Layout(align_self='stretch', height='400px'))"
      ]
     },
     "metadata": {},
     "output_type": "display_data"
    }
   ],
   "source": [
    "view3 = quick_view(structure,conventional = True)\n",
    "display(view3)\n",
    "view3.script('draw SYMOP 77 {atomno=1}')"
   ]
  },
  {
   "cell_type": "markdown",
   "id": "4d6f559b",
   "metadata": {},
   "source": [
    "**NOTE: ma molécule n'ayant que 2 atomes différents, je ne peux pas choisir de faire les 3 éléments de symétrie sur 3 atomes distincts.**"
   ]
  },
  {
   "cell_type": "markdown",
   "id": "995296e3",
   "metadata": {},
   "source": [
    "Si les visualisations avec jupyter-jsmol ne s'affichent pas bien, il faut essayer d'exécuter à nouveau la cellule correspondante.\n",
    "\n",
    "Si jamais, voici des images qui correspondent à ce qui devrait être affiché :"
   ]
  },
  {
   "cell_type": "markdown",
   "id": "e925566b",
   "metadata": {},
   "source": [
    "L'inversion:\n",
    "<img src=\"Sym1.png\" alt=\"1er élément de symétrie\">"
   ]
  },
  {
   "cell_type": "markdown",
   "id": "f2bbfb74",
   "metadata": {},
   "source": [
    "La rotation d'ordre 3: \n",
    "<img src=\"Sym2.png\" alt=\"2ème élément de symétrie\">"
   ]
  },
  {
   "cell_type": "markdown",
   "id": "853dfc9f",
   "metadata": {},
   "source": [
    "La rotation d'ordre 2:\n",
    "<img src=\"Sym3.png\" alt=\"3ème élément de symétrie\">"
   ]
  }
 ],
 "metadata": {
  "kernelspec": {
   "display_name": "Python 3 (ipykernel)",
   "language": "python",
   "name": "python3"
  },
  "language_info": {
   "codemirror_mode": {
    "name": "ipython",
    "version": 3
   },
   "file_extension": ".py",
   "mimetype": "text/x-python",
   "name": "python",
   "nbconvert_exporter": "python",
   "pygments_lexer": "ipython3",
   "version": "3.9.13"
  }
 },
 "nbformat": 4,
 "nbformat_minor": 5
}
